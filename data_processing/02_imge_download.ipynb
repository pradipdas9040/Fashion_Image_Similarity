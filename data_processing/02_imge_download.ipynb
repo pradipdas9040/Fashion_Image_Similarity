{
 "cells": [
  {
   "cell_type": "code",
   "execution_count": 1,
   "metadata": {},
   "outputs": [],
   "source": [
    "import pandas as pd\n",
    "import re\n",
    "import numpy as np\n",
    "import requests\n",
    "import os\n",
    "from tqdm import tqdm\n",
    "import urllib\n",
    "import rembg\n",
    "from PIL import Image\n",
    "from matplotlib import pyplot as plt\n",
    "import cv2\n",
    "import urllib.request\n",
    "from concurrent.futures import ThreadPoolExecutor, as_completed\n",
    "import tempfile\n",
    "import configparser\n",
    "from selenium import webdriver\n",
    "from selenium.webdriver.common.by import By\n",
    "import os\n",
    "import time\n",
    "from tqdm import tqdm\n",
    "import pandas as pd\n",
    "import urllib.request\n",
    "from concurrent.futures import ThreadPoolExecutor, as_completed\n",
    "import tempfile\n",
    "import configparser\n",
    "import rembg\n",
    "from PIL import Image"
   ]
  },
  {
   "cell_type": "code",
   "execution_count": 2,
   "metadata": {},
   "outputs": [],
   "source": [
    "config = configparser.RawConfigParser()\n",
    "config.read('config.ini')\n",
    "img_folder = config['folder_name']['img_download']\n",
    "product_table_path = config['intermediate_path']['product_table']\n",
    "image_table_path = config['intermediate_path']['image_table']\n",
    "os.makedirs(img_folder, exist_ok=True)"
   ]
  },
  {
   "cell_type": "code",
   "execution_count": 3,
   "metadata": {},
   "outputs": [],
   "source": [
    "# def resize_image(img, output_size=(256, 256)):\n",
    "#     return img.resize(output_size, Image.LANCZOS)\n",
    "\n",
    "# def process_image(product_id, img_url):\n",
    "#     try:\n",
    "#         # Create a temporary file for each image\n",
    "#         with tempfile.NamedTemporaryFile(delete=True, suffix='.png') as temp_file:\n",
    "#             urllib.request.urlretrieve(img_url, temp_file.name) # download temp file\n",
    "\n",
    "#             img = Image.open(temp_file.name)\n",
    "#             rm_back = rembg.remove(img) # Remove background\n",
    "\n",
    "#             if rm_back.mode == 'RGBA':\n",
    "#                 rm_back = rm_back.convert('RGB') # Convert RGBA -> RGB\n",
    "\n",
    "#             output = resize_image(rm_back)\n",
    "#             output.save(f'{img_folder}/{product_id}.png', 'PNG')\n",
    "\n",
    "#             return {'product_id': {product_id}, 'image_path': f'{img_folder}/{product_id}.png'}\n",
    "    \n",
    "#     except Exception as e:\n",
    "#         print(f'Error processing {product_id}: {e}')\n",
    "#         return None\n",
    "    \n",
    "# def create_img_df(img_url_list, max_workar=8):\n",
    "#     try:\n",
    "#         rows = []\n",
    "\n",
    "#         with ThreadPoolExecutor(max_workers=max_workar) as executor:\n",
    "#             features = {executor.submit(process_image, pid, url): pid for pid, url in img_url_list}\n",
    "\n",
    "#             for feature in tqdm(as_completed(features), total=len(img_url_list)):\n",
    "#                 result = feature.result()\n",
    "#                 if result:\n",
    "#                     rows.append(result)\n",
    "        \n",
    "#         return pd.DataFrame(rows)\n",
    "#     except Exception as e:\n",
    "#         raise e"
   ]
  },
  {
   "cell_type": "code",
   "execution_count": 4,
   "metadata": {},
   "outputs": [],
   "source": [
    "# img_df = pd.read_csv('product_table.csv')\n",
    "# img_df.head()"
   ]
  },
  {
   "cell_type": "code",
   "execution_count": 5,
   "metadata": {},
   "outputs": [],
   "source": [
    "# df1 = img_df.groupby('product_name').agg('count')\n",
    "# df1.head()"
   ]
  },
  {
   "cell_type": "code",
   "execution_count": 6,
   "metadata": {},
   "outputs": [],
   "source": [
    "def open_browser(path):\n",
    "    try:\n",
    "        # set up Selenium WebDriver\n",
    "        driver = webdriver.Chrome()\n",
    "        driver.get(path)\n",
    "\n",
    "        # Wait for page to load\n",
    "        time.sleep(20)\n",
    "        \n",
    "        driver.find_element(By.XPATH, '//button[text() =\"Ask Me Later\"]').click()\n",
    "        return driver\n",
    "    \n",
    "    except Exception as e:\n",
    "        raise e\n",
    "    \n",
    "def resize_image(img, output_size=(256, 256)):\n",
    "    return img.resize(output_size, Image.LANCZOS)\n",
    "\n",
    "def process_image(driver, product_id, img_url, img_extension=['.jpeg'], folder_name=img_folder):\n",
    "    try:\n",
    "        images = driver.find_elements(By.TAG_NAME, 'img')\n",
    "        img_url = list(\n",
    "            filter(\n",
    "                lambda url: any(extn in url for extn in img_extension),\n",
    "                map(lambda img: img.get_attribute('src'), images)\n",
    "            )            \n",
    "        )[0]\n",
    "\n",
    "        # Create a temporary file for each image\n",
    "        with tempfile.NamedTemporaryFile(delete=True, suffix='.png') as temp_file:\n",
    "            urllib.request.urlretrieve(img_url, temp_file.name) # download temp file\n",
    "\n",
    "            img = Image.open(temp_file.name)\n",
    "            rm_back = rembg.remove(img) # Remove background\n",
    "\n",
    "            if rm_back.mode == 'RGBA':\n",
    "                rm_back = rm_back.convert('RGB') # Convert RGBA -> RGB\n",
    "\n",
    "            output = resize_image(rm_back)\n",
    "            output.save(f'{folder_name}/{product_id}.png', 'PNG')\n",
    "\n",
    "            return {'product_id': product_id, 'image_path': f'{folder_name}/{product_id}.png'}\n",
    "    \n",
    "    except Exception as e:\n",
    "        print(f'Error processing {product_id}: {e}')\n",
    "    \n",
    "    finally:\n",
    "        driver.quit()\n",
    "\n",
    "def process_wrapper(id, path):\n",
    "    try:\n",
    "        driver = open_browser(path=path)\n",
    "        row = process_image(driver, id, path, img_extension=['.jpeg'], folder_name=img_folder)\n",
    "        return row\n",
    "    except Exception as e:\n",
    "        raise e\n",
    "\n",
    "def save_img(prod_dict):\n",
    "    try:\n",
    "        rows = []\n",
    "\n",
    "        for item in tqdm(prod_dict.items()):\n",
    "            results = process_wrapper(*item)\n",
    "            \n",
    "        rows.extend(results)\n",
    "        return pd.DataFrame([r for r in rows if r])\n",
    "    \n",
    "    except Exception as e:\n",
    "        raise e"
   ]
  },
  {
   "cell_type": "code",
   "execution_count": 7,
   "metadata": {},
   "outputs": [],
   "source": [
    "prod_href = pd.read_csv(product_table_path)\n",
    "prod_id_index = prod_href[['product_id', 'product_url']].set_index('product_id').to_dict('index')\n",
    "prod_id_href_dict = dict(map(lambda x: (x, list(prod_id_index[x].values())[0]), prod_id_index.keys()))"
   ]
  },
  {
   "cell_type": "code",
   "execution_count": 10,
   "metadata": {},
   "outputs": [],
   "source": [
    "k =[]\n",
    "for key, value in zip(list(prod_id_href_dict.keys())[907:1000], list(prod_id_href_dict.values())[907:1000]): \n",
    "    k.append((key, value))                                                                                                                                                                                                                                                                                                                                      \n",
    "dic = dict(k)                                                                                                                                                                                                                                                                                                                                                                                                                                             \n",
    "# dic                                                                 "
   ]
  },
  {
   "cell_type": "code",
   "execution_count": 11,
   "metadata": {},
   "outputs": [
    {
     "name": "stderr",
     "output_type": "stream",
     "text": [
      "  0%|          | 0/93 [00:35<?, ?it/s]\n"
     ]
    },
    {
     "ename": "NoSuchElementException",
     "evalue": "Message: no such element: Unable to locate element: {\"method\":\"xpath\",\"selector\":\"//button[text() =\"Ask Me Later\"]\"}\n  (Session info: chrome=133.0.6943.141); For documentation on this error, please visit: https://www.selenium.dev/documentation/webdriver/troubleshooting/errors#no-such-element-exception\nStacktrace:\n#0 0x64438a29714a <unknown>\n#1 0x644389d34b80 <unknown>\n#2 0x644389d860e9 <unknown>\n#3 0x644389d86271 <unknown>\n#4 0x644389dd4de4 <unknown>\n#5 0x644389dabefd <unknown>\n#6 0x644389dd214a <unknown>\n#7 0x644389dabca3 <unknown>\n#8 0x644389d77f08 <unknown>\n#9 0x644389d79071 <unknown>\n#10 0x64438a260b5b <unknown>\n#11 0x64438a264ae2 <unknown>\n#12 0x64438a24c967 <unknown>\n#13 0x64438a2656d4 <unknown>\n#14 0x64438a230c7f <unknown>\n#15 0x64438a285cd8 <unknown>\n#16 0x64438a285ea9 <unknown>\n#17 0x64438a295fc6 <unknown>\n#18 0x78a9a729caa4 <unknown>\n#19 0x78a9a7329c3c <unknown>\n",
     "output_type": "error",
     "traceback": [
      "\u001b[0;31m---------------------------------------------------------------------------\u001b[0m",
      "\u001b[0;31mNoSuchElementException\u001b[0m                    Traceback (most recent call last)",
      "Cell \u001b[0;32mIn[11], line 1\u001b[0m\n\u001b[0;32m----> 1\u001b[0m df \u001b[38;5;241m=\u001b[39m \u001b[43msave_img\u001b[49m\u001b[43m(\u001b[49m\u001b[43mdic\u001b[49m\u001b[43m)\u001b[49m\n",
      "Cell \u001b[0;32mIn[6], line 69\u001b[0m, in \u001b[0;36msave_img\u001b[0;34m(prod_dict)\u001b[0m\n\u001b[1;32m     66\u001b[0m     \u001b[38;5;28;01mreturn\u001b[39;00m pd\u001b[38;5;241m.\u001b[39mDataFrame([r \u001b[38;5;28;01mfor\u001b[39;00m r \u001b[38;5;129;01min\u001b[39;00m rows \u001b[38;5;28;01mif\u001b[39;00m r])\n\u001b[1;32m     68\u001b[0m \u001b[38;5;28;01mexcept\u001b[39;00m \u001b[38;5;167;01mException\u001b[39;00m \u001b[38;5;28;01mas\u001b[39;00m e:\n\u001b[0;32m---> 69\u001b[0m     \u001b[38;5;28;01mraise\u001b[39;00m e\n",
      "Cell \u001b[0;32mIn[6], line 63\u001b[0m, in \u001b[0;36msave_img\u001b[0;34m(prod_dict)\u001b[0m\n\u001b[1;32m     60\u001b[0m rows \u001b[38;5;241m=\u001b[39m []\n\u001b[1;32m     62\u001b[0m \u001b[38;5;28;01mfor\u001b[39;00m item \u001b[38;5;129;01min\u001b[39;00m tqdm(prod_dict\u001b[38;5;241m.\u001b[39mitems()):\n\u001b[0;32m---> 63\u001b[0m     results \u001b[38;5;241m=\u001b[39m \u001b[43mprocess_wrapper\u001b[49m\u001b[43m(\u001b[49m\u001b[38;5;241;43m*\u001b[39;49m\u001b[43mitem\u001b[49m\u001b[43m)\u001b[49m\n\u001b[1;32m     65\u001b[0m rows\u001b[38;5;241m.\u001b[39mextend(results)\n\u001b[1;32m     66\u001b[0m \u001b[38;5;28;01mreturn\u001b[39;00m pd\u001b[38;5;241m.\u001b[39mDataFrame([r \u001b[38;5;28;01mfor\u001b[39;00m r \u001b[38;5;129;01min\u001b[39;00m rows \u001b[38;5;28;01mif\u001b[39;00m r])\n",
      "Cell \u001b[0;32mIn[6], line 56\u001b[0m, in \u001b[0;36mprocess_wrapper\u001b[0;34m(id, path)\u001b[0m\n\u001b[1;32m     54\u001b[0m     \u001b[38;5;28;01mreturn\u001b[39;00m row\n\u001b[1;32m     55\u001b[0m \u001b[38;5;28;01mexcept\u001b[39;00m \u001b[38;5;167;01mException\u001b[39;00m \u001b[38;5;28;01mas\u001b[39;00m e:\n\u001b[0;32m---> 56\u001b[0m     \u001b[38;5;28;01mraise\u001b[39;00m e\n",
      "Cell \u001b[0;32mIn[6], line 52\u001b[0m, in \u001b[0;36mprocess_wrapper\u001b[0;34m(id, path)\u001b[0m\n\u001b[1;32m     50\u001b[0m \u001b[38;5;28;01mdef\u001b[39;00m \u001b[38;5;21mprocess_wrapper\u001b[39m(\u001b[38;5;28mid\u001b[39m, path):\n\u001b[1;32m     51\u001b[0m     \u001b[38;5;28;01mtry\u001b[39;00m:\n\u001b[0;32m---> 52\u001b[0m         driver \u001b[38;5;241m=\u001b[39m \u001b[43mopen_browser\u001b[49m\u001b[43m(\u001b[49m\u001b[43mpath\u001b[49m\u001b[38;5;241;43m=\u001b[39;49m\u001b[43mpath\u001b[49m\u001b[43m)\u001b[49m\n\u001b[1;32m     53\u001b[0m         row \u001b[38;5;241m=\u001b[39m process_image(driver, \u001b[38;5;28mid\u001b[39m, path, img_extension\u001b[38;5;241m=\u001b[39m[\u001b[38;5;124m'\u001b[39m\u001b[38;5;124m.jpeg\u001b[39m\u001b[38;5;124m'\u001b[39m], folder_name\u001b[38;5;241m=\u001b[39mimg_folder)\n\u001b[1;32m     54\u001b[0m         \u001b[38;5;28;01mreturn\u001b[39;00m row\n",
      "Cell \u001b[0;32mIn[6], line 14\u001b[0m, in \u001b[0;36mopen_browser\u001b[0;34m(path)\u001b[0m\n\u001b[1;32m     11\u001b[0m     \u001b[38;5;28;01mreturn\u001b[39;00m driver\n\u001b[1;32m     13\u001b[0m \u001b[38;5;28;01mexcept\u001b[39;00m \u001b[38;5;167;01mException\u001b[39;00m \u001b[38;5;28;01mas\u001b[39;00m e:\n\u001b[0;32m---> 14\u001b[0m     \u001b[38;5;28;01mraise\u001b[39;00m e\n",
      "Cell \u001b[0;32mIn[6], line 10\u001b[0m, in \u001b[0;36mopen_browser\u001b[0;34m(path)\u001b[0m\n\u001b[1;32m      7\u001b[0m     \u001b[38;5;66;03m# Wait for page to load\u001b[39;00m\n\u001b[1;32m      8\u001b[0m     time\u001b[38;5;241m.\u001b[39msleep(\u001b[38;5;241m20\u001b[39m)\n\u001b[0;32m---> 10\u001b[0m     \u001b[43mdriver\u001b[49m\u001b[38;5;241;43m.\u001b[39;49m\u001b[43mfind_element\u001b[49m\u001b[43m(\u001b[49m\u001b[43mBy\u001b[49m\u001b[38;5;241;43m.\u001b[39;49m\u001b[43mXPATH\u001b[49m\u001b[43m,\u001b[49m\u001b[43m \u001b[49m\u001b[38;5;124;43m'\u001b[39;49m\u001b[38;5;124;43m//button[text() =\u001b[39;49m\u001b[38;5;124;43m\"\u001b[39;49m\u001b[38;5;124;43mAsk Me Later\u001b[39;49m\u001b[38;5;124;43m\"\u001b[39;49m\u001b[38;5;124;43m]\u001b[39;49m\u001b[38;5;124;43m'\u001b[39;49m\u001b[43m)\u001b[49m\u001b[38;5;241m.\u001b[39mclick()\n\u001b[1;32m     11\u001b[0m     \u001b[38;5;28;01mreturn\u001b[39;00m driver\n\u001b[1;32m     13\u001b[0m \u001b[38;5;28;01mexcept\u001b[39;00m \u001b[38;5;167;01mException\u001b[39;00m \u001b[38;5;28;01mas\u001b[39;00m e:\n",
      "File \u001b[0;32m~/.local/lib/python3.12/site-packages/selenium/webdriver/remote/webdriver.py:888\u001b[0m, in \u001b[0;36mWebDriver.find_element\u001b[0;34m(self, by, value)\u001b[0m\n\u001b[1;32m    885\u001b[0m         \u001b[38;5;28;01mraise\u001b[39;00m NoSuchElementException(\u001b[38;5;124mf\u001b[39m\u001b[38;5;124m\"\u001b[39m\u001b[38;5;124mCannot locate relative element with: \u001b[39m\u001b[38;5;132;01m{\u001b[39;00mby\u001b[38;5;241m.\u001b[39mroot\u001b[38;5;132;01m}\u001b[39;00m\u001b[38;5;124m\"\u001b[39m)\n\u001b[1;32m    886\u001b[0m     \u001b[38;5;28;01mreturn\u001b[39;00m elements[\u001b[38;5;241m0\u001b[39m]\n\u001b[0;32m--> 888\u001b[0m \u001b[38;5;28;01mreturn\u001b[39;00m \u001b[38;5;28;43mself\u001b[39;49m\u001b[38;5;241;43m.\u001b[39;49m\u001b[43mexecute\u001b[49m\u001b[43m(\u001b[49m\u001b[43mCommand\u001b[49m\u001b[38;5;241;43m.\u001b[39;49m\u001b[43mFIND_ELEMENT\u001b[49m\u001b[43m,\u001b[49m\u001b[43m \u001b[49m\u001b[43m{\u001b[49m\u001b[38;5;124;43m\"\u001b[39;49m\u001b[38;5;124;43musing\u001b[39;49m\u001b[38;5;124;43m\"\u001b[39;49m\u001b[43m:\u001b[49m\u001b[43m \u001b[49m\u001b[43mby\u001b[49m\u001b[43m,\u001b[49m\u001b[43m \u001b[49m\u001b[38;5;124;43m\"\u001b[39;49m\u001b[38;5;124;43mvalue\u001b[39;49m\u001b[38;5;124;43m\"\u001b[39;49m\u001b[43m:\u001b[49m\u001b[43m \u001b[49m\u001b[43mvalue\u001b[49m\u001b[43m}\u001b[49m\u001b[43m)\u001b[49m[\u001b[38;5;124m\"\u001b[39m\u001b[38;5;124mvalue\u001b[39m\u001b[38;5;124m\"\u001b[39m]\n",
      "File \u001b[0;32m~/.local/lib/python3.12/site-packages/selenium/webdriver/remote/webdriver.py:429\u001b[0m, in \u001b[0;36mWebDriver.execute\u001b[0;34m(self, driver_command, params)\u001b[0m\n\u001b[1;32m    427\u001b[0m response \u001b[38;5;241m=\u001b[39m \u001b[38;5;28mself\u001b[39m\u001b[38;5;241m.\u001b[39mcommand_executor\u001b[38;5;241m.\u001b[39mexecute(driver_command, params)\n\u001b[1;32m    428\u001b[0m \u001b[38;5;28;01mif\u001b[39;00m response:\n\u001b[0;32m--> 429\u001b[0m     \u001b[38;5;28;43mself\u001b[39;49m\u001b[38;5;241;43m.\u001b[39;49m\u001b[43merror_handler\u001b[49m\u001b[38;5;241;43m.\u001b[39;49m\u001b[43mcheck_response\u001b[49m\u001b[43m(\u001b[49m\u001b[43mresponse\u001b[49m\u001b[43m)\u001b[49m\n\u001b[1;32m    430\u001b[0m     response[\u001b[38;5;124m\"\u001b[39m\u001b[38;5;124mvalue\u001b[39m\u001b[38;5;124m\"\u001b[39m] \u001b[38;5;241m=\u001b[39m \u001b[38;5;28mself\u001b[39m\u001b[38;5;241m.\u001b[39m_unwrap_value(response\u001b[38;5;241m.\u001b[39mget(\u001b[38;5;124m\"\u001b[39m\u001b[38;5;124mvalue\u001b[39m\u001b[38;5;124m\"\u001b[39m, \u001b[38;5;28;01mNone\u001b[39;00m))\n\u001b[1;32m    431\u001b[0m     \u001b[38;5;28;01mreturn\u001b[39;00m response\n",
      "File \u001b[0;32m~/.local/lib/python3.12/site-packages/selenium/webdriver/remote/errorhandler.py:232\u001b[0m, in \u001b[0;36mErrorHandler.check_response\u001b[0;34m(self, response)\u001b[0m\n\u001b[1;32m    230\u001b[0m         alert_text \u001b[38;5;241m=\u001b[39m value[\u001b[38;5;124m\"\u001b[39m\u001b[38;5;124malert\u001b[39m\u001b[38;5;124m\"\u001b[39m]\u001b[38;5;241m.\u001b[39mget(\u001b[38;5;124m\"\u001b[39m\u001b[38;5;124mtext\u001b[39m\u001b[38;5;124m\"\u001b[39m)\n\u001b[1;32m    231\u001b[0m     \u001b[38;5;28;01mraise\u001b[39;00m exception_class(message, screen, stacktrace, alert_text)  \u001b[38;5;66;03m# type: ignore[call-arg]  # mypy is not smart enough here\u001b[39;00m\n\u001b[0;32m--> 232\u001b[0m \u001b[38;5;28;01mraise\u001b[39;00m exception_class(message, screen, stacktrace)\n",
      "\u001b[0;31mNoSuchElementException\u001b[0m: Message: no such element: Unable to locate element: {\"method\":\"xpath\",\"selector\":\"//button[text() =\"Ask Me Later\"]\"}\n  (Session info: chrome=133.0.6943.141); For documentation on this error, please visit: https://www.selenium.dev/documentation/webdriver/troubleshooting/errors#no-such-element-exception\nStacktrace:\n#0 0x64438a29714a <unknown>\n#1 0x644389d34b80 <unknown>\n#2 0x644389d860e9 <unknown>\n#3 0x644389d86271 <unknown>\n#4 0x644389dd4de4 <unknown>\n#5 0x644389dabefd <unknown>\n#6 0x644389dd214a <unknown>\n#7 0x644389dabca3 <unknown>\n#8 0x644389d77f08 <unknown>\n#9 0x644389d79071 <unknown>\n#10 0x64438a260b5b <unknown>\n#11 0x64438a264ae2 <unknown>\n#12 0x64438a24c967 <unknown>\n#13 0x64438a2656d4 <unknown>\n#14 0x64438a230c7f <unknown>\n#15 0x64438a285cd8 <unknown>\n#16 0x64438a285ea9 <unknown>\n#17 0x64438a295fc6 <unknown>\n#18 0x78a9a729caa4 <unknown>\n#19 0x78a9a7329c3c <unknown>\n"
     ]
    }
   ],
   "source": [
    "df = save_img(dic)"
   ]
  },
  {
   "cell_type": "code",
   "execution_count": 14,
   "metadata": {},
   "outputs": [
    {
     "data": {
      "text/plain": [
       "53"
      ]
     },
     "execution_count": 14,
     "metadata": {},
     "output_type": "execute_result"
    }
   ],
   "source": [
    "len(list(prod_id_href_dict.keys())[47:100])"
   ]
  },
  {
   "cell_type": "code",
   "execution_count": null,
   "metadata": {},
   "outputs": [],
   "source": []
  }
 ],
 "metadata": {
  "kernelspec": {
   "display_name": "Python 3",
   "language": "python",
   "name": "python3"
  },
  "language_info": {
   "codemirror_mode": {
    "name": "ipython",
    "version": 3
   },
   "file_extension": ".py",
   "mimetype": "text/x-python",
   "name": "python",
   "nbconvert_exporter": "python",
   "pygments_lexer": "ipython3",
   "version": "3.12.3"
  }
 },
 "nbformat": 4,
 "nbformat_minor": 2
}
