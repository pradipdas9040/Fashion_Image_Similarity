{
 "cells": [
  {
   "cell_type": "code",
   "execution_count": 4,
   "metadata": {},
   "outputs": [],
   "source": [
    "from datetime import datetime, timedelta\n",
    "import configparser"
   ]
  },
  {
   "cell_type": "code",
   "execution_count": 5,
   "metadata": {},
   "outputs": [],
   "source": [
    "config = configparser.RawConfigParser()\n",
    "\n",
    "config['scrap_url'] = {\n",
    "    'url': 'https://www.tatacliq.com/t-shirts-&-polos/c-msh1116100/?q=%3Arelevance%3Acategory%3AMSH1116100%3AinStockFlag%3Atrue'\n",
    "}\n",
    "\n",
    "config['folder_name'] = {\n",
    "    'img_download': 'images'\n",
    "}\n",
    "\n",
    "config['intermediate_path'] = {\n",
    "    'product_table': 'product_table.csv',\n",
    "    'image_table': 'image_table.csv'\n",
    "}"
   ]
  },
  {
   "cell_type": "code",
   "execution_count": 6,
   "metadata": {},
   "outputs": [
    {
     "name": "stdout",
     "output_type": "stream",
     "text": [
      "Config saved successfully!\n"
     ]
    }
   ],
   "source": [
    "# Write to a file\n",
    "with open('config.ini', 'w') as configfile:\n",
    "    config.write(configfile)\n",
    "\n",
    "print(\"Config saved successfully!\")\n"
   ]
  },
  {
   "cell_type": "code",
   "execution_count": null,
   "metadata": {},
   "outputs": [],
   "source": []
  }
 ],
 "metadata": {
  "kernelspec": {
   "display_name": "Python 3",
   "language": "python",
   "name": "python3"
  },
  "language_info": {
   "codemirror_mode": {
    "name": "ipython",
    "version": 3
   },
   "file_extension": ".py",
   "mimetype": "text/x-python",
   "name": "python",
   "nbconvert_exporter": "python",
   "pygments_lexer": "ipython3",
   "version": "3.12.3"
  }
 },
 "nbformat": 4,
 "nbformat_minor": 2
}
