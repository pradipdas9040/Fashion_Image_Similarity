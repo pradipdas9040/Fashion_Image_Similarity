{
 "cells": [
  {
   "cell_type": "code",
   "execution_count": 1,
   "metadata": {},
   "outputs": [],
   "source": [
    "from selenium import webdriver\n",
    "from selenium.webdriver.common.by import By\n",
    "import os\n",
    "import time\n",
    "from tqdm import tqdm\n",
    "import pandas as pd\n",
    "import urllib.request\n",
    "from concurrent.futures import ThreadPoolExecutor, as_completed\n",
    "import tempfile\n",
    "import configparser\n",
    "import rembg\n",
    "from PIL import Image"
   ]
  },
  {
   "cell_type": "code",
   "execution_count": 2,
   "metadata": {},
   "outputs": [],
   "source": [
    "config = configparser.RawConfigParser()\n",
    "config.read('config.ini')\n",
    "img_folder = config['folder_name']['img_download']\n",
    "product_table_path = config['intermediate_path']['product_table']\n",
    "image_table_path = config['intermediate_path']['image_table']\n",
    "os.makedirs(img_folder, exist_ok=True)"
   ]
  },
  {
   "cell_type": "code",
   "execution_count": 3,
   "metadata": {},
   "outputs": [],
   "source": [
    "def open_browser(path):\n",
    "    try:\n",
    "        # set up Selenium WebDriver\n",
    "        driver = webdriver.Chrome()\n",
    "        driver.get(path)\n",
    "\n",
    "        # Wait for page to load\n",
    "        time.sleep(5)\n",
    "        \n",
    "        driver.find_element(By.XPATH, '//button[text() =\"Ask Me Later\"]').click()\n",
    "        return driver\n",
    "    \n",
    "    except Exception as e:\n",
    "        raise e\n",
    "    \n",
    "def resize_image(img, output_size=(256, 256)):\n",
    "    return img.resize(output_size, Image.LANCZOS)\n",
    "\n",
    "def process_image(driver, product_id, img_url, img_extension=['.jpeg'], folder_name=img_folder):\n",
    "    try:\n",
    "        images = driver.find_elements(By.TAG_NAME, 'img')\n",
    "        img_url = list(\n",
    "            filter(\n",
    "                lambda url: any(extn in url for extn in img_extension),\n",
    "                map(lambda img: img.get_attribute('src'), images)\n",
    "            )            \n",
    "        )[0]\n",
    "\n",
    "        # Create a temporary file for each image\n",
    "        with tempfile.NamedTemporaryFile(delete=True, suffix='.png') as temp_file:\n",
    "            urllib.request.urlretrieve(img_url, temp_file.name) # download temp file\n",
    "\n",
    "            img = Image.open(temp_file.name)\n",
    "            rm_back = rembg.remove(img) # Remove background\n",
    "\n",
    "            if rm_back.mode == 'RGBA':\n",
    "                rm_back = rm_back.convert('RGB') # Convert RGBA -> RGB\n",
    "\n",
    "            output = resize_image(rm_back)\n",
    "            output.save(f'{folder_name}/{product_id}.png', 'PNG')\n",
    "\n",
    "            return {'product_id': product_id, 'image_path': f'{folder_name}/{product_id}.png'}\n",
    "    \n",
    "    except Exception as e:\n",
    "        print(f'Error processing {product_id}: {e}')\n",
    "    \n",
    "    finally:\n",
    "        driver.quit()\n",
    "\n",
    "def process_wrapper(id, path):\n",
    "    try:\n",
    "        driver = open_browser(path=path)\n",
    "        row = process_image(driver, id, path, img_extension=['.jpeg'], folder_name=img_folder)\n",
    "        return row\n",
    "    except Exception as e:\n",
    "        raise e\n",
    "\n",
    "def save_img(prod_dict, max_workar=4):\n",
    "    try:\n",
    "        rows = []\n",
    "\n",
    "        with ThreadPoolExecutor(max_workers=max_workar) as executor:\n",
    "            results = list(\n",
    "                tqdm(\n",
    "                    executor.map(lambda item: process_wrapper(*item), prod_dict.items()), \n",
    "                    total=len(prod_dict),\n",
    "                    colour='red'\n",
    "                )\n",
    "            )\n",
    "            \n",
    "        rows.extend(results)\n",
    "        return pd.DataFrame([r for r in rows if r])\n",
    "    \n",
    "    except Exception as e:\n",
    "        raise e"
   ]
  },
  {
   "cell_type": "code",
   "execution_count": 4,
   "metadata": {},
   "outputs": [],
   "source": [
    "prod_href = pd.read_csv(product_table_path)\n",
    "prod_id_index = prod_href[['product_id', 'product_url']].set_index('product_id').to_dict('index')\n",
    "prod_id_href_dict = dict(map(lambda x: (x, list(prod_id_index[x].values())[0]), prod_id_index.keys()))"
   ]
  },
  {
   "cell_type": "code",
   "execution_count": null,
   "metadata": {},
   "outputs": [
    {
     "name": "stderr",
     "output_type": "stream",
     "text": [
      "  0%|\u001b[31m          \u001b[0m| 1/6036 [01:46<178:04:30, 106.23s/it]\n"
     ]
    }
   ],
   "source": [
    "img_path_df = save_img(prod_id_href_dict, max_workar=2)"
   ]
  },
  {
   "cell_type": "code",
   "execution_count": null,
   "metadata": {},
   "outputs": [],
   "source": [
    "img_path_df.to_csv(image_table_path, index=False)"
   ]
  },
  {
   "cell_type": "code",
   "execution_count": 5,
   "metadata": {},
   "outputs": [
    {
     "data": {
      "text/plain": [
       "{'mp000000022960625': 'https://www.tatacliq.com/american-eagle-burgundy-cotton-regular-fit-t-shirt/p-mp000000022960625',\n",
       " 'mp000000024030162': 'https://www.tatacliq.com/sf-jeans-by-pantaloons-apple-green-cotton-slim-fit-t-shirts/p-mp000000024030162'}"
      ]
     },
     "execution_count": 5,
     "metadata": {},
     "output_type": "execute_result"
    }
   ],
   "source": [
    "k =[]\n",
    "for key, value in zip(list(prod_id_href_dict.keys())[:2], list(prod_id_href_dict.values())[:2]):\n",
    "    k.append((key, value))\n",
    "dic = dict(k)\n",
    "dic"
   ]
  },
  {
   "cell_type": "code",
   "execution_count": 6,
   "metadata": {},
   "outputs": [
    {
     "name": "stderr",
     "output_type": "stream",
     "text": [
      "100%|\u001b[31m██████████\u001b[0m| 2/2 [01:43<00:00, 51.75s/it] \n"
     ]
    }
   ],
   "source": [
    "img_path_df = save_img(dic)"
   ]
  },
  {
   "cell_type": "code",
   "execution_count": null,
   "metadata": {},
   "outputs": [],
   "source": []
  }
 ],
 "metadata": {
  "kernelspec": {
   "display_name": "Python 3",
   "language": "python",
   "name": "python3"
  },
  "language_info": {
   "codemirror_mode": {
    "name": "ipython",
    "version": 3
   },
   "file_extension": ".py",
   "mimetype": "text/x-python",
   "name": "python",
   "nbconvert_exporter": "python",
   "pygments_lexer": "ipython3",
   "version": "3.12.3"
  }
 },
 "nbformat": 4,
 "nbformat_minor": 2
}
