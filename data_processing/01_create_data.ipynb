{
 "cells": [
  {
   "cell_type": "code",
   "execution_count": 7,
   "metadata": {},
   "outputs": [
    {
     "name": "stdout",
     "output_type": "stream",
     "text": [
      "Collecting selenium\n",
      "  Downloading selenium-4.29.0-py3-none-any.whl.metadata (7.1 kB)\n",
      "Requirement already satisfied: urllib3<3,>=1.26 in c:\\users\\sabya\\anaconda3\\lib\\site-packages (from urllib3[socks]<3,>=1.26->selenium) (2.2.3)\n",
      "Collecting trio~=0.17 (from selenium)\n",
      "  Downloading trio-0.29.0-py3-none-any.whl.metadata (8.5 kB)\n",
      "Collecting trio-websocket~=0.9 (from selenium)\n",
      "  Downloading trio_websocket-0.12.2-py3-none-any.whl.metadata (5.1 kB)\n",
      "Requirement already satisfied: certifi>=2021.10.8 in c:\\users\\sabya\\anaconda3\\lib\\site-packages (from selenium) (2024.12.14)\n",
      "Requirement already satisfied: typing_extensions~=4.9 in c:\\users\\sabya\\anaconda3\\lib\\site-packages (from selenium) (4.11.0)\n",
      "Requirement already satisfied: websocket-client~=1.8 in c:\\users\\sabya\\anaconda3\\lib\\site-packages (from selenium) (1.8.0)\n",
      "Collecting attrs>=23.2.0 (from trio~=0.17->selenium)\n",
      "  Downloading attrs-25.1.0-py3-none-any.whl.metadata (10 kB)\n",
      "Requirement already satisfied: sortedcontainers in c:\\users\\sabya\\anaconda3\\lib\\site-packages (from trio~=0.17->selenium) (2.4.0)\n",
      "Requirement already satisfied: idna in c:\\users\\sabya\\anaconda3\\lib\\site-packages (from trio~=0.17->selenium) (3.7)\n",
      "Collecting outcome (from trio~=0.17->selenium)\n",
      "  Downloading outcome-1.3.0.post0-py2.py3-none-any.whl.metadata (2.6 kB)\n",
      "Requirement already satisfied: sniffio>=1.3.0 in c:\\users\\sabya\\anaconda3\\lib\\site-packages (from trio~=0.17->selenium) (1.3.0)\n",
      "Requirement already satisfied: cffi>=1.14 in c:\\users\\sabya\\anaconda3\\lib\\site-packages (from trio~=0.17->selenium) (1.17.1)\n",
      "Collecting wsproto>=0.14 (from trio-websocket~=0.9->selenium)\n",
      "  Downloading wsproto-1.2.0-py3-none-any.whl.metadata (5.6 kB)\n",
      "Requirement already satisfied: pysocks!=1.5.7,<2.0,>=1.5.6 in c:\\users\\sabya\\anaconda3\\lib\\site-packages (from urllib3[socks]<3,>=1.26->selenium) (1.7.1)\n",
      "Requirement already satisfied: pycparser in c:\\users\\sabya\\anaconda3\\lib\\site-packages (from cffi>=1.14->trio~=0.17->selenium) (2.21)\n",
      "Requirement already satisfied: h11<1,>=0.9.0 in c:\\users\\sabya\\anaconda3\\lib\\site-packages (from wsproto>=0.14->trio-websocket~=0.9->selenium) (0.14.0)\n",
      "Downloading selenium-4.29.0-py3-none-any.whl (9.5 MB)\n",
      "   ---------------------------------------- 0.0/9.5 MB ? eta -:--:--\n",
      "   --- ------------------------------------ 0.8/9.5 MB 4.8 MB/s eta 0:00:02\n",
      "   ----- ---------------------------------- 1.3/9.5 MB 3.0 MB/s eta 0:00:03\n",
      "   ------ --------------------------------- 1.6/9.5 MB 2.7 MB/s eta 0:00:03\n",
      "   -------- ------------------------------- 2.1/9.5 MB 2.4 MB/s eta 0:00:04\n",
      "   --------- ------------------------------ 2.4/9.5 MB 2.4 MB/s eta 0:00:04\n",
      "   ------------ --------------------------- 2.9/9.5 MB 2.3 MB/s eta 0:00:03\n",
      "   -------------- ------------------------- 3.4/9.5 MB 2.3 MB/s eta 0:00:03\n",
      "   --------------- ------------------------ 3.7/9.5 MB 2.2 MB/s eta 0:00:03\n",
      "   ----------------- ---------------------- 4.2/9.5 MB 2.2 MB/s eta 0:00:03\n",
      "   ------------------ --------------------- 4.5/9.5 MB 2.1 MB/s eta 0:00:03\n",
      "   ------------------- -------------------- 4.7/9.5 MB 2.1 MB/s eta 0:00:03\n",
      "   --------------------- ------------------ 5.2/9.5 MB 2.0 MB/s eta 0:00:03\n",
      "   ----------------------- ---------------- 5.5/9.5 MB 2.0 MB/s eta 0:00:03\n",
      "   ------------------------- -------------- 6.0/9.5 MB 2.0 MB/s eta 0:00:02\n",
      "   --------------------------- ------------ 6.6/9.5 MB 2.1 MB/s eta 0:00:02\n",
      "   ----------------------------- ---------- 7.1/9.5 MB 2.1 MB/s eta 0:00:02\n",
      "   ------------------------------- -------- 7.6/9.5 MB 2.1 MB/s eta 0:00:01\n",
      "   ------------------------------------ --- 8.7/9.5 MB 2.3 MB/s eta 0:00:01\n",
      "   -------------------------------------- - 9.2/9.5 MB 2.3 MB/s eta 0:00:01\n",
      "   ---------------------------------------- 9.5/9.5 MB 2.3 MB/s eta 0:00:00\n",
      "Downloading trio-0.29.0-py3-none-any.whl (492 kB)\n",
      "Downloading trio_websocket-0.12.2-py3-none-any.whl (21 kB)\n",
      "Downloading attrs-25.1.0-py3-none-any.whl (63 kB)\n",
      "Downloading outcome-1.3.0.post0-py2.py3-none-any.whl (10 kB)\n",
      "Downloading wsproto-1.2.0-py3-none-any.whl (24 kB)\n",
      "Installing collected packages: wsproto, attrs, outcome, trio, trio-websocket, selenium\n",
      "  Attempting uninstall: attrs\n",
      "    Found existing installation: attrs 23.1.0\n",
      "    Uninstalling attrs-23.1.0:\n",
      "      Successfully uninstalled attrs-23.1.0\n",
      "Successfully installed attrs-25.1.0 outcome-1.3.0.post0 selenium-4.29.0 trio-0.29.0 trio-websocket-0.12.2 wsproto-1.2.0\n",
      "Note: you may need to restart the kernel to use updated packages.\n"
     ]
    }
   ],
   "source": [
    "pip install selenium"
   ]
  },
  {
   "cell_type": "code",
   "execution_count": 9,
   "metadata": {},
   "outputs": [],
   "source": [
    "from selenium import webdriver\n",
    "from selenium.webdriver.common.by import By\n",
    "from selenium.webdriver.common.keys import Keys\n",
    "import time\n",
    "import pandas as pd\n",
    "from tqdm import tqdm\n",
    "import re\n",
    "import configparser\n",
    "from concurrent.futures import ThreadPoolExecutor\n",
    "from selenium.webdriver.support.ui import WebDriverWait\n",
    "from selenium.webdriver.support import expected_conditions as EC"
   ]
  },
  {
   "cell_type": "code",
   "execution_count": 19,
   "metadata": {},
   "outputs": [
    {
     "name": "stdout",
     "output_type": "stream",
     "text": [
      "URL saved successfully!\n"
     ]
    }
   ],
   "source": [
    "%run ./00_config.ipynb"
   ]
  },
  {
   "cell_type": "code",
   "execution_count": 21,
   "metadata": {},
   "outputs": [],
   "source": [
    "config = configparser.RawConfigParser()\n",
    "config.read('config.ini')\n",
    "url = config['scrap_url']['url']"
   ]
  },
  {
   "cell_type": "code",
   "execution_count": 23,
   "metadata": {},
   "outputs": [],
   "source": [
    "def open_browser(path):\n",
    "    '''\n",
    "    It will create a Chrome driver\n",
    "\n",
    "    Parameter:\n",
    "    - path: url of the website\n",
    "\n",
    "    Return:\n",
    "    - driver: Chrome driver \n",
    "    '''\n",
    "    try:\n",
    "        driver = webdriver.Chrome()\n",
    "        driver.get(path)\n",
    "\n",
    "        time.sleep(10) # Wait for page to load\n",
    "        \n",
    "        driver.find_element(By.XPATH, '//button[text() =\"Ask Me Later\"]').click()\n",
    "\n",
    "        print('Driver created successfully')\n",
    "        return driver\n",
    "    except Exception as e:\n",
    "        raise e\n",
    "    \n",
    "def webpage_scroll(driver, scroll_value=1000):\n",
    "    '''\n",
    "    This function scroll the webpage.\n",
    "\n",
    "    Parameters:\n",
    "    - driver: Chrome driver\n",
    "    - scroll_value: number of time to scrool the web-page\n",
    "\n",
    "    Return:\n",
    "    - driver: Chrome driver after scrolling\n",
    "    '''\n",
    "    try:\n",
    "        for _ in tqdm(range(scroll_value), desc='Scrolling Products'):\n",
    "            driver.find_element(By.TAG_NAME, 'body').send_keys(Keys.PAGE_DOWN)\n",
    "            time.sleep(3)  # Allow images to load\n",
    "\n",
    "            try:\n",
    "                show_more_button = driver.find_element(By.XPATH, '//button[text()=\"Show More Products\"]')\n",
    "                if show_more_button.is_displayed():\n",
    "                    show_more_button.click()\n",
    "            except:\n",
    "                pass  # No button found, continue scrolling\n",
    "\n",
    "        return driver\n",
    "    except Exception as e:\n",
    "        raise e\n",
    "    \n",
    "def extract_product_href(product_element):\n",
    "    '''\n",
    "    Extracts the product name and href from the anchor tag.\n",
    "    '''\n",
    "    product_href = 'No Link Found'\n",
    "    product_name = product_element.get_attribute('title')  # Extract product title\n",
    "    try:\n",
    "        product_href = product_element.get_attribute('href')  # Extract href\n",
    "\n",
    "        # Ensure absolute URL if href is relative\n",
    "        if product_href and product_href.startswith('//'):\n",
    "            product_href = 'https:' + product_href\n",
    "\n",
    "    except:\n",
    "        pass\n",
    "\n",
    "    return product_name, product_href\n",
    "\n",
    "def collect_data(driver):\n",
    "    '''\n",
    "    Extracts all product data by dynamically scrolling until no new products load.\n",
    "    '''\n",
    "    product_data = set()\n",
    "    wait = WebDriverWait(driver, 10)\n",
    "\n",
    "    try:\n",
    "        driver.find_element(By.TAG_NAME, 'body').send_keys(Keys.PAGE_DOWN)\n",
    "\n",
    "        wait.until(EC.presence_of_all_elements_located((By.CLASS_NAME, \"ProductModule__aTag\")))\n",
    "\n",
    "        product_cards = driver.find_elements(By.CLASS_NAME, \"ProductModule__aTag\")\n",
    "\n",
    "        # Extract product data in parallel\n",
    "        with ThreadPoolExecutor(max_workers=min(10, len(product_cards))) as executor:\n",
    "            results = list(tqdm(\n",
    "                executor.map(extract_product_href, product_cards),\n",
    "                desc=\"Extracting Product Links\",\n",
    "                total=len(product_cards),\n",
    "                unit=\"product\",\n",
    "                leave=False\n",
    "            ))\n",
    "\n",
    "        product_data.update((name, link) for name, link in results if link != 'No Link Found')\n",
    "\n",
    "        final_product_data = list(product_data)\n",
    "        print(f'\\nTotal Products Extracted: {len(final_product_data)}')\n",
    "        return final_product_data\n",
    "\n",
    "    except Exception as e:\n",
    "        print(f\"Error occurred: {e}\")\n",
    "        return list(product_data) \n",
    "\n",
    "    finally:\n",
    "        driver.quit() \n"
   ]
  },
  {
   "cell_type": "code",
   "execution_count": null,
   "metadata": {},
   "outputs": [
    {
     "name": "stdout",
     "output_type": "stream",
     "text": [
      "Driver created successfully\n"
     ]
    },
    {
     "name": "stderr",
     "output_type": "stream",
     "text": [
      "Scrolling Products:   5%|███                                                       | 53/1000 [07:55<4:00:57, 15.27s/it]"
     ]
    }
   ],
   "source": [
    "driver = open_browser(path=url)\n",
    "driver = webpage_scroll(driver)\n",
    "product_data = collect_data(driver)"
   ]
  },
  {
   "cell_type": "code",
   "execution_count": null,
   "metadata": {},
   "outputs": [],
   "source": [
    "scrap_data = pd.DataFrame(product_data, columns=['product_name', 'product_url'])\n",
    "image_data = scrap_data[~(scrap_data['product_url']=='No Image Found')]\n",
    "len(image_data)"
   ]
  },
  {
   "cell_type": "code",
   "execution_count": null,
   "metadata": {},
   "outputs": [],
   "source": [
    "scrap_data = pd.DataFrame(product_data, columns=['product_name', 'product_url'])\n",
    "image_data = scrap_data[~(scrap_data['product_url']=='No Image Found')]\n",
    "\n",
    "pattern = r'mp\\d+'\n",
    "image_data['product_id'] = image_data['product_url'].apply(lambda x: re.findall(pattern, x)[0])"
   ]
  },
  {
   "cell_type": "code",
   "execution_count": null,
   "metadata": {},
   "outputs": [],
   "source": [
    "\n",
    "image_data.to_csv('product_table.csv', index=False)"
   ]
  },
  {
   "cell_type": "code",
   "execution_count": null,
   "metadata": {},
   "outputs": [],
   "source": []
  }
 ],
 "metadata": {
  "kernelspec": {
   "display_name": "Python [conda env:base] *",
   "language": "python",
   "name": "conda-base-py"
  },
  "language_info": {
   "codemirror_mode": {
    "name": "ipython",
    "version": 3
   },
   "file_extension": ".py",
   "mimetype": "text/x-python",
   "name": "python",
   "nbconvert_exporter": "python",
   "pygments_lexer": "ipython3",
   "version": "3.12.7"
  }
 },
 "nbformat": 4,
 "nbformat_minor": 4
}
